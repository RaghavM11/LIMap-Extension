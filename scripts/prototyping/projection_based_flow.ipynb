{
 "cells": [
  {
   "cell_type": "code",
   "execution_count": 3,
   "metadata": {},
   "outputs": [],
   "source": [
    "from pathlib import Path\n",
    "import sys\n",
    "\n",
    "import matplotlib.pyplot as plt\n",
    "import numpy as np\n",
    "from PIL import Image\n",
    "\n",
    "SCRIPTS_DIR = Path(\".\").resolve().parents[1]\n",
    "sys.path.append(SCRIPTS_DIR.as_posix())\n",
    "from path_fixer import allow_limap_imports, REPO_DIR\n",
    "\n",
    "allow_limap_imports()\n",
    "\n",
    "from limap_extension.optical_flow import OpticalFlow, RAFT_MODEL_PATH, Args\n",
    "from limap_extension.transforms_spatial import get_transform_matrix_from_pose_array\n",
    "from limap_extension.projection_based_flow import (projection_based_motion_segmentation,\n",
    "                                                   reproject_img,\n",
    "                                                   #project_img_pair_to_3d_using_flow,\n",
    "                                                #    calculate_flow_field_and_reconstruct_imgs,\n",
    "                                                #    segment_flow_field_basic\n",
    "                                                )\n",
    "from limap_extension.projection_based_flow import display_img_pair\n",
    "\n",
    "%load_ext autoreload\n",
    "%autoreload 2\n"
   ]
  },
  {
   "cell_type": "code",
   "execution_count": 6,
   "metadata": {},
   "outputs": [],
   "source": [
    "# TRIAL_DIR = REPO_DIR / \"datasets\" / \"ocean\" / \"Hard\" / \"P006\"\n",
    "TRIAL_DIR = REPO_DIR / \"datasets\" / \"carwelding\" / \"easy\" / \"P007\"\n",
    "\n",
    "# Original testing frame\n",
    "# FRAME_1 = 127\n",
    "# FRAME_2 = 128\n",
    "\n",
    "# This also looked good!\n",
    "# FRAME_1 = 128\n",
    "# FRAME_2 = 129\n",
    "\n",
    "FRAME_1 = 129\n",
    "FRAME_2 = 130\n",
    "\n",
    "# Load in the data.\n",
    "frame_str = f\"{FRAME_1:06d}\"\n",
    "rgb_1 = np.array(Image.open(TRIAL_DIR / \"image_left\" / f\"{frame_str}_left.png\"))\n",
    "depth_1 = np.load(TRIAL_DIR / \"depth_left\" / f\"{frame_str}_left_depth.npy\")\n",
    "\n",
    "frame_str = f\"{FRAME_2:06d}\"\n",
    "rgb_2 = np.array(Image.open(TRIAL_DIR / \"image_left\" / f\"{frame_str}_left.png\"))\n",
    "depth_2 = np.load(TRIAL_DIR / \"depth_left\" / f\"{frame_str}_left_depth.npy\")\n",
    "\n",
    "cam_poses = np.loadtxt(TRIAL_DIR / \"pose_left.txt\")\n",
    "\n",
    "# Opting to crop the depth images before input to reprojection\n",
    "# depth_max = 50\n",
    "# depth_1 = np.clip(depth_1, None, depth_max)\n",
    "# depth_2 = np.clip(depth_2, None, depth_max)\n",
    "\n",
    "flow = OpticalFlow(None)\n",
    "flow.load_model(RAFT_MODEL_PATH, Args())\n",
    "\n",
    "cp1 = cam_poses[FRAME_1, :]\n",
    "cp2 = cam_poses[FRAME_2, :]\n",
    "\n",
    "pose_1 = get_transform_matrix_from_pose_array(cp1)\n",
    "pose_2 = get_transform_matrix_from_pose_array(cp2)"
   ]
  },
  {
   "cell_type": "code",
   "execution_count": 7,
   "metadata": {},
   "outputs": [
    {
     "name": "stdout",
     "output_type": "stream",
     "text": [
      "Should we mask out the invalid projection motion?\n"
     ]
    },
    {
     "data": {
      "text/plain": [
       "<matplotlib.image.AxesImage at 0x7f2770666d60>"
      ]
     },
     "execution_count": 7,
     "metadata": {},
     "output_type": "execute_result"
    },
    {
     "data": {
      "image/png": "[encoded data removed]",
      "text/plain": [
       "<Figure size 640x480 with 1 Axes>"
      ]
     },
     "metadata": {},
     "output_type": "display_data"
    }
   ],
   "source": [
    "mask_test = projection_based_motion_segmentation(rgb_1, depth_1, rgb_2, depth_2, pose_1, pose_2,\n",
    "                                                 flow)\n",
    "\n",
    "plt.figure()\n",
    "plt.imshow(mask_test)"
   ]
  },
  {
   "cell_type": "code",
   "execution_count": null,
   "metadata": {},
   "outputs": [],
   "source": [
    "# Reproject the image at time t to the image frame at time t+1\n",
    "img_1_in_frame_2, depth_1_in_frame_2, mask_valid_projection, valid_bbox = reproject_img(\n",
    "    rgb_1, depth_1, pose_1, pose_2)\n",
    "\n",
    "rgb_1_cropped = valid_bbox.crop_img(img_1_in_frame_2)\n",
    "depth_1_cropped = valid_bbox.crop_img(depth_1_in_frame_2)\n",
    "rgb_2_cropped = valid_bbox.crop_img(rgb_2)\n",
    "depth_2_cropped = valid_bbox.crop_img(depth_2)\n",
    "mask_valid_projection_cropped = valid_bbox.crop_img(mask_valid_projection)\n",
    "\n",
    "img_height_cropped = rgb_1_cropped.shape[0]\n",
    "img_width_cropped = rgb_1_cropped.shape[1]\n",
    "\n",
    "# TODO: Make this a callable input to the function that either actually calculates the flow or\n",
    "# loads in the ground truth flow?\n",
    "# Might be easier to make this a flag and conditional.\n",
    "_, flow_up = flow.infer_flow(rgb_1_cropped, rgb_2_cropped)\n",
    "flow_up = flow_up[0].permute(1, 2, 0).cpu().numpy()\n",
    "\n",
    "cloud_1, cloud_2 = project_img_pair_to_3d_using_flow(rgb_1_cropped, depth_1_cropped,\n",
    "                                                     depth_2_cropped, rgb_2_cropped, flow_up,\n",
    "                                                     mask_valid_projection_cropped)\n",
    "\n",
    "flow_field, rgb_reconstructed, depth_reconstructed, mask_valid_reconstruction = \\\n",
    "    calculate_flow_field_and_reconstruct_imgs(\n",
    "    cloud_1, cloud_2, img_height_cropped, img_width_cropped)\n",
    "\n",
    "mask = segment_flow_field_basic(flow_field)"
   ]
  },
  {
   "cell_type": "code",
   "execution_count": null,
   "metadata": {},
   "outputs": [],
   "source": [
    "# plt.figure()\n",
    "# plt.imshow(depth_reconstructed)\n",
    "\n",
    "ff_display = flow_field.copy()\n",
    "ff_display = np.clip(ff_display, None, 10)\n",
    "plt.figure()\n",
    "plt.imshow(ff_display)\n",
    "plt.colorbar()\n",
    "\n",
    "plt.figure()\n",
    "plt.imshow(mask)\n",
    "\n",
    "plt.figure()\n",
    "plt.imshow(mask_valid_reconstruction)"
   ]
  },
  {
   "cell_type": "code",
   "execution_count": null,
   "metadata": {},
   "outputs": [],
   "source": [
    "depth_disparity = np.abs(depth_2_cropped - depth_reconstructed)\n",
    "depth_disparity[~mask_valid_reconstruction] = -1\n",
    "\n",
    "display_img_pair(depth_2_cropped, depth_reconstructed)\n",
    "\n",
    "plt.figure()\n",
    "plt.imshow(depth_disparity)\n",
    "plt.title(\"Depth Disparity\")\n",
    "plt.colorbar()\n",
    "\n",
    "\n",
    "def calculate_rgb_disparity(rgb_2_cropped, rgb_reconstructed, valid_reconstruction_mask):\n",
    "    disparity = np.linalg.norm(rgb_2_cropped.astype(float) - rgb_reconstructed.astype(float),\n",
    "                               axis=-1,\n",
    "                               keepdims=True)\n",
    "    disparity[~valid_reconstruction_mask] = -1\n",
    "    return disparity\n",
    "\n",
    "\n",
    "# rgb_disparity = np.linalg.norm(rgb_2_cropped.astype(float) - rgb_reconstructed.astype(float),\n",
    "# axis=-1)\n",
    "rgb_disparity = calculate_rgb_disparity(rgb_2_cropped, rgb_reconstructed, mask_valid_reconstruction)\n",
    "\n",
    "display_img_pair(rgb_2_cropped, rgb_reconstructed)\n",
    "\n",
    "plt.figure()\n",
    "plt.imshow(rgb_disparity)\n",
    "plt.title(\"RGB Disparity\")\n",
    "plt.colorbar()"
   ]
  },
  {
   "cell_type": "code",
   "execution_count": null,
   "metadata": {},
   "outputs": [],
   "source": [
    "plt.figure()\n",
    "plt.imshow(np.linalg.norm(flow_up, axis=-1))\n",
    "\n",
    "plt.figure()\n",
    "plt.imshow(flow_field)"
   ]
  },
  {
   "cell_type": "code",
   "execution_count": null,
   "metadata": {},
   "outputs": [],
   "source": [
    "# Idea: decompose the flow field into planar and depth components.\n",
    "from limap_extension.constants import CAM_INTRINSIC\n",
    "from limap_extension.img_cloud_transforms import tform_coords, inverse_pose, get_uv_coords, uvz_ned_to_xyz_cam, xyz_cam_to_uvz_ned\n",
    "\n",
    "us, vs = get_uv_coords(*flow_up.shape[:-1])\n",
    "dus = flow_up[:, :, 1].flatten()\n",
    "dvs = flow_up[:, :, 0].flatten()\n",
    "zs_1_in_frame_2 = depth_1_cropped.reshape(-1)\n",
    "# zs_2 = depth_2_cropped.reshape(-1)\n",
    "\n",
    "xyz_1 = uvz_ned_to_xyz_cam(us, vs, zs_1_in_frame_2, CAM_INTRINSIC)\n",
    "xyz_2 = uvz_ned_to_xyz_cam(us + dus, vs + dvs, zs_1_in_frame_2, CAM_INTRINSIC)\n",
    "\n",
    "delta_xy = (xyz_1 - xyz_2)[:, :-1]\n",
    "planar_motion = delta_xy.reshape(*flow_up.shape)\n",
    "\n",
    "print(\"Should we mask out the invalid projection motion?\")\n",
    "\n",
    "# delta_uvs = flow_up.reshape(-1, 2)\n",
    "\n",
    "# zs_1_in_frame_2 = depth_1_cropped.reshape(-1)\n",
    "\n",
    "# planar_motion = zs_1_in_frame_2[:, None] * tform_coords(np.linalg.inv(CAM_INTRINSIC), delta_uvs)\n",
    "\n",
    "# planar_motion = planar_motion.reshape(*flow_up.shape)\n"
   ]
  },
  {
   "cell_type": "code",
   "execution_count": null,
   "metadata": {},
   "outputs": [],
   "source": [
    "x_ned_motion = planar_motion[:, :, 0]\n",
    "y_ned_motion = planar_motion[:, :, 1]\n",
    "\n",
    "plt.figure()\n",
    "plt.imshow(x_ned_motion)\n",
    "\n",
    "plt.figure()\n",
    "plt.imshow(y_ned_motion)\n",
    "\n",
    "flow_img_magnitude = np.linalg.norm(flow_up, axis=-1)\n",
    "flow_planar_xy_magnitude = np.linalg.norm(planar_motion, axis=-1)\n",
    "# plt.imshow()\n",
    "display_img_pair(flow_img_magnitude, flow_planar_xy_magnitude)"
   ]
  },
  {
   "cell_type": "code",
   "execution_count": null,
   "metadata": {},
   "outputs": [],
   "source": [
    "# Now, depth distance can be calculated by the difference in depth between the two frames.\n",
    "depth_motion = np.abs(depth_2_cropped - depth_1_cropped)\n",
    "depth_motion[valid_bbox.crop_img(~mask_valid_projection)] = 0.0\n",
    "\n",
    "# For some reason, there's like two pixels that have HUGE depth disparity\n",
    "depth_motion = np.clip(depth_motion, None, 3.0)\n",
    "\n",
    "plt.figure()\n",
    "plt.imshow(depth_motion)\n",
    "plt.colorbar()"
   ]
  },
  {
   "cell_type": "code",
   "execution_count": null,
   "metadata": {},
   "outputs": [],
   "source": [
    "planar_motion_masked = planar_motion.copy()\n",
    "planar_motion_masked[valid_bbox.crop_img(~mask_valid_projection)] = 0.0\n",
    "# full_motion = np.sqrt(np.linalg.norm(planar_motion_masked, axis=-1) + depth_motion)\n",
    "# full_motion = np.zeros((*flow_up.shape[:-1], 3))\n",
    "full_motion = np.concatenate((planar_motion, depth_motion[..., None]), axis=-1)\n",
    "\n",
    "full_motion_mag = np.linalg.norm(full_motion, axis=-1)\n",
    "\n",
    "plt.figure()\n",
    "plt.imshow(full_motion_mag)"
   ]
  },
  {
   "cell_type": "code",
   "execution_count": null,
   "metadata": {},
   "outputs": [],
   "source": [
    "dynamic_object_mask = full_motion_mag > 0.4\n",
    "dynamic_object_mask[~proj_mask_to_use] = False\n",
    "\n",
    "plt.figure(figsize=(10, 10))\n",
    "plt.imshow(dynamic_object_mask)"
   ]
  },
  {
   "cell_type": "code",
   "execution_count": null,
   "metadata": {},
   "outputs": [],
   "source": [
    "plt.figure()\n",
    "plt.imshow(rgb_1_cropped)\n",
    "\n",
    "plt.figure()\n",
    "plt.imshow(rgb_2_cropped)"
   ]
  },
  {
   "cell_type": "code",
   "execution_count": null,
   "metadata": {},
   "outputs": [],
   "source": [
    "import cv2\n",
    "\n",
    "kernel = cv2.getStructuringElement(cv2.MORPH_ELLIPSE, (3, 3))\n",
    "\n",
    "mask_valid_projection_cropped_dilated = cv2.morphologyEx(mask_valid_projection_cropped.astype(\n",
    "    np.uint8),\n",
    "                                                         cv2.MORPH_OPEN,\n",
    "                                                         kernel,\n",
    "                                                         iterations=5).astype(bool)\n",
    "\n",
    "plt.figure()\n",
    "plt.imshow(mask_valid_projection_cropped)\n",
    "\n",
    "plt.figure()\n",
    "plt.imshow(mask_valid_projection_cropped_dilated)"
   ]
  },
  {
   "cell_type": "code",
   "execution_count": null,
   "metadata": {},
   "outputs": [],
   "source": [
    "from limap_extension.img_cloud_transforms import find_valid_uv_coords\n",
    "\n",
    "# proj_mask_to_use = mask_valid_projection_cropped\n",
    "proj_mask_to_use = mask_valid_projection_cropped_dilated\n",
    "\n",
    "us, vs = get_uv_coords(*flow_up.shape[:-1])\n",
    "dus = flow_up[:, :, 1].flatten()\n",
    "dvs = flow_up[:, :, 0].flatten()\n",
    "zs_1_in_frame_2 = depth_1_cropped.flatten()\n",
    "zs_2 = depth_2_cropped.flatten()\n",
    "\n",
    "img_height, img_width, _ = flow_up.shape\n",
    "\n",
    "u_preds = np.round(us + dus).astype(int)\n",
    "v_preds = np.round(vs + dvs).astype(int)\n",
    "coords_valid = find_valid_uv_coords(u_preds, v_preds, img_height, img_width)\n",
    "coords_valid = coords_valid & proj_mask_to_use.flatten()\n",
    "\n",
    "us = us[coords_valid]\n",
    "vs = vs[coords_valid]\n",
    "u_preds = u_preds[coords_valid]\n",
    "v_preds = v_preds[coords_valid]\n",
    "zs_1_in_frame_2 = zs_1_in_frame_2[coords_valid]\n",
    "zs_2 = zs_2[coords_valid]\n",
    "\n",
    "xyz_1 = uvz_ned_to_xyz_cam(us, vs, zs_1_in_frame_2, CAM_INTRINSIC)\n",
    "xyz_2 = uvz_ned_to_xyz_cam(u_preds, v_preds, zs_2, CAM_INTRINSIC)\n",
    "\n",
    "delta_xyz = (xyz_2 - xyz_1)\n",
    "# full_motion = delta_xy.reshape(*flow_up.shape[:-1], 3)\n",
    "full_motion = np.zeros((img_height, img_width, 3))\n",
    "\n",
    "# This is a mask for image 1. We should compute img 2 in frame 1 (reverse process) to get mask for\n",
    "# image 2\n",
    "us_reproj, vs_reproj, zs_reproj = xyz_cam_to_uvz_ned(xyz_1, is_rounding_to_int=True)\n",
    "full_motion[vs_reproj, us_reproj] = delta_xyz\n"
   ]
  },
  {
   "cell_type": "code",
   "execution_count": null,
   "metadata": {},
   "outputs": [],
   "source": [
    "full_motion_mag = np.linalg.norm(full_motion, axis=-1)\n",
    "full_motion_mag = np.clip(full_motion_mag, None, 1.0)\n",
    "\n",
    "plt.figure()\n",
    "plt.imshow(full_motion_mag)\n",
    "\n",
    "full_motion_mask = full_motion_mag > 0.4\n",
    "\n",
    "plt.figure()\n",
    "plt.imshow(full_motion_mask)"
   ]
  },
  {
   "cell_type": "code",
   "execution_count": null,
   "metadata": {},
   "outputs": [],
   "source": [
    "kernel = cv2.getStructuringElement(cv2.MORPH_ELLIPSE, (2, 2))\n",
    "full_motion_mask_adjusted = full_motion_mask.astype(np.uint8)\n",
    "full_motion_mask_adjusted = cv2.erode(full_motion_mask_adjusted, kernel)\n",
    "full_motion_mask_adjusted = cv2.morphologyEx(full_motion_mask_adjusted, cv2.MORPH_OPEN, kernel)\n",
    "\n",
    "kernel = cv2.getStructuringElement(cv2.MORPH_ELLIPSE, (5, 5))\n",
    "full_motion_mask_adjusted = cv2.dilate(full_motion_mask_adjusted, kernel)\n",
    "\n",
    "plt.figure()\n",
    "plt.imshow(full_motion_mask_adjusted.astype(bool))"
   ]
  },
  {
   "cell_type": "code",
   "execution_count": null,
   "metadata": {},
   "outputs": [],
   "source": []
  }
 ],
 "metadata": {
  "kernelspec": {
   "display_name": "LIMap-Extension-SxYs4e-2",
   "language": "python",
   "name": "python3"
  },
  "language_info": {
   "codemirror_mode": {
    "name": "ipython",
    "version": 3
   },
   "file_extension": ".py",
   "mimetype": "text/x-python",
   "name": "python",
   "nbconvert_exporter": "python",
   "pygments_lexer": "ipython3",
   "version": "3.9.19"
  }
 },
 "nbformat": 4,
 "nbformat_minor": 2
}
